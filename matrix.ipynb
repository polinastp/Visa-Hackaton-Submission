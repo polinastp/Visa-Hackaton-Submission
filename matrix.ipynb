{
 "cells": [
  {
   "cell_type": "code",
   "execution_count": 1,
   "metadata": {},
   "outputs": [],
   "source": [
    "import pandas as pd\n",
    "import numpy as np"
   ]
  },
  {
   "cell_type": "code",
   "execution_count": 2,
   "metadata": {},
   "outputs": [],
   "source": [
    "# load data \n",
    "df = pd.read_csv('open-banking-data.csv')"
   ]
  },
  {
   "cell_type": "code",
   "execution_count": 3,
   "metadata": {},
   "outputs": [
    {
     "data": {
      "text/html": [
       "<div>\n",
       "<style scoped>\n",
       "    .dataframe tbody tr th:only-of-type {\n",
       "        vertical-align: middle;\n",
       "    }\n",
       "\n",
       "    .dataframe tbody tr th {\n",
       "        vertical-align: top;\n",
       "    }\n",
       "\n",
       "    .dataframe thead th {\n",
       "        text-align: right;\n",
       "    }\n",
       "</style>\n",
       "<table border=\"1\" class=\"dataframe\">\n",
       "  <thead>\n",
       "    <tr style=\"text-align: right;\">\n",
       "      <th></th>\n",
       "      <th>Name</th>\n",
       "      <th>Value.accountId</th>\n",
       "      <th>cluster_name_adjusted</th>\n",
       "      <th>Value.amount.currencyCode</th>\n",
       "      <th>mrch_catg_rlup_nm2</th>\n",
       "      <th>Value.dates.booked</th>\n",
       "      <th>amount</th>\n",
       "      <th>Category</th>\n",
       "    </tr>\n",
       "  </thead>\n",
       "  <tbody>\n",
       "    <tr>\n",
       "      <th>0</th>\n",
       "      <td>transactions</td>\n",
       "      <td>5a73582adf954cf6b3db6cc97bedccd9</td>\n",
       "      <td>Affluent Segment</td>\n",
       "      <td>GBP</td>\n",
       "      <td>AMUSEMENT PARKS/CIRCUS</td>\n",
       "      <td>5/12/2023</td>\n",
       "      <td>3.73</td>\n",
       "      <td>entertainment</td>\n",
       "    </tr>\n",
       "    <tr>\n",
       "      <th>1</th>\n",
       "      <td>transactions</td>\n",
       "      <td>5a73582adf954cf6b3db6cc97bedccd9</td>\n",
       "      <td>Affluent Segment</td>\n",
       "      <td>GBP</td>\n",
       "      <td>AMUSEMENT PARKS/CIRCUS</td>\n",
       "      <td>5/12/2023</td>\n",
       "      <td>3.73</td>\n",
       "      <td>entertainment</td>\n",
       "    </tr>\n",
       "    <tr>\n",
       "      <th>2</th>\n",
       "      <td>transactions</td>\n",
       "      <td>5a73582adf954cf6b3db6cc97bedccd9</td>\n",
       "      <td>Affluent Segment</td>\n",
       "      <td>GBP</td>\n",
       "      <td>AMUSEMENT PARKS/CIRCUS</td>\n",
       "      <td>6/2/2023</td>\n",
       "      <td>4.39</td>\n",
       "      <td>entertainment</td>\n",
       "    </tr>\n",
       "    <tr>\n",
       "      <th>3</th>\n",
       "      <td>transactions</td>\n",
       "      <td>5a73582adf954cf6b3db6cc97bedccd9</td>\n",
       "      <td>Affluent Segment</td>\n",
       "      <td>GBP</td>\n",
       "      <td>AMUSEMENT PARKS/CIRCUS</td>\n",
       "      <td>6/2/2023</td>\n",
       "      <td>7.40</td>\n",
       "      <td>entertainment</td>\n",
       "    </tr>\n",
       "    <tr>\n",
       "      <th>4</th>\n",
       "      <td>transactions</td>\n",
       "      <td>6r88582adf954cf6b3db6cc97bedccd9</td>\n",
       "      <td>Urban Spenders</td>\n",
       "      <td>GBP</td>\n",
       "      <td>ART DEALERS &amp; GALLERIES</td>\n",
       "      <td>7/14/2023</td>\n",
       "      <td>6.57</td>\n",
       "      <td>entertainment</td>\n",
       "    </tr>\n",
       "  </tbody>\n",
       "</table>\n",
       "</div>"
      ],
      "text/plain": [
       "           Name                   Value.accountId cluster_name_adjusted  \\\n",
       "0  transactions  5a73582adf954cf6b3db6cc97bedccd9      Affluent Segment   \n",
       "1  transactions  5a73582adf954cf6b3db6cc97bedccd9      Affluent Segment   \n",
       "2  transactions  5a73582adf954cf6b3db6cc97bedccd9      Affluent Segment   \n",
       "3  transactions  5a73582adf954cf6b3db6cc97bedccd9      Affluent Segment   \n",
       "4  transactions  6r88582adf954cf6b3db6cc97bedccd9        Urban Spenders   \n",
       "\n",
       "  Value.amount.currencyCode       mrch_catg_rlup_nm2 Value.dates.booked  \\\n",
       "0                       GBP   AMUSEMENT PARKS/CIRCUS          5/12/2023   \n",
       "1                       GBP   AMUSEMENT PARKS/CIRCUS          5/12/2023   \n",
       "2                       GBP   AMUSEMENT PARKS/CIRCUS           6/2/2023   \n",
       "3                       GBP   AMUSEMENT PARKS/CIRCUS           6/2/2023   \n",
       "4                       GBP  ART DEALERS & GALLERIES          7/14/2023   \n",
       "\n",
       "   amount       Category  \n",
       "0    3.73  entertainment  \n",
       "1    3.73  entertainment  \n",
       "2    4.39  entertainment  \n",
       "3    7.40  entertainment  \n",
       "4    6.57  entertainment  "
      ]
     },
     "execution_count": 3,
     "metadata": {},
     "output_type": "execute_result"
    }
   ],
   "source": [
    "df.head()"
   ]
  },
  {
   "cell_type": "code",
   "execution_count": 4,
   "metadata": {},
   "outputs": [
    {
     "data": {
      "text/plain": [
       "array(['AMUSEMENT PARKS/CIRCUS', 'ART DEALERS & GALLERIES',\n",
       "       'ARTIST/CRAFT SHOPS', 'AUTOMATED FUEL DISPENSERS',\n",
       "       'AUTOMOTIVE TIRE STORES', 'BAKERIES', 'BANDS/ORCHESTRAS/ENTERTAIN',\n",
       "       'BARS/TAVERNS/LOUNGES/DISCOS', 'BEAUTY/BARBER SHOPS',\n",
       "       'BOOK STORES', 'BUS LINES', 'BUSINESS SERVICES - DEFAULT',\n",
       "       'BUYING/SHOPPING SERVICES', 'CABLE, SAT, PAY TV/RADIO SVCS',\n",
       "       'CATERERS', 'CHARITABLE/SOC SERVICE ORGS',\n",
       "       'CHILDREN/INFANTS WEAR STORES', 'CIGAR STORES/STANDS',\n",
       "       'COMMERCIAL EQUIPMENT - DEFAULT', 'COMPUTER SOFTWARE STORES',\n",
       "       'CONTINUITY/SUBSCRIPTION MERCHT', 'COURIER SERVICES',\n",
       "       'DENTISTS/ORTHODONTISTS', 'DEPARTMENT STORES',\n",
       "       'DIGITAL GOODS BOOKSMOVIEMUSIC', 'DIGITAL GOODS GAMES',\n",
       "       'DISCOUNT STORES', 'DRUG STORES & PHARMACIES',\n",
       "       'ELECTRONICS STORES', 'FAMILY CLOTHING STORES',\n",
       "       'FAST FOOD RESTAURANTS', 'FLORISTS', 'FREEZER/MEAT LOCKERS',\n",
       "       'GIFT, CARD, NOVELTY STORES', \"GOV'T SERV - DEFAULT\",\n",
       "       'GROCERY STORES/SUPERMARKETS', 'HARDWARE STORES',\n",
       "       'HOME SUPPLY WAREHOUSE STORES', 'JEWELRY STORES',\n",
       "       'LARGE DIGITAL GOODS MERCHANT', 'LOCAL COMMUTER TRANSPORT',\n",
       "       'MED/HEALTH SERVICES - DEF', 'MEMBER CLUBS/SPORT/REC/GOLF',\n",
       "       'MEMBER ORGANIZATIONS - DEF', 'MEN/BOYS CLOTHING/ACC STORES',\n",
       "       'MENS/WOMENS CLOTHING STORES', 'MISC APPAREL/ACCESS STORES',\n",
       "       'MISC FOOD STORES - DEFAULT', 'MISC GENERAL MERCHANDISE',\n",
       "       'MISC PERSONAL SERV - DEF', 'MISC SPECIALTY RETAIL',\n",
       "       'MOTION PICTURE THEATRES', 'NEWS DEALERS/NEWSSTANDS',\n",
       "       'NURSERIES, LAWN/GARDEN SUPPLY', 'OPTICIANS',\n",
       "       'OTHER DIRECT MARKETERS', 'PARKING LOTS,METERS,GARAGES',\n",
       "       'PASSENGER RAILWAYS', 'PHOTOFINISH LABS/DEV', 'POSTAGE STAMPS',\n",
       "       'PROFESSIONAL SERVICES - DEF', 'RECORD STORES',\n",
       "       'RECREATION SERVICES', 'RESTAURANTS', 'SERVICE STATIONS',\n",
       "       'SHOE STORES', 'SPORTING GOODS STORES',\n",
       "       'SPORTS/RIDING APPAREL STORES', 'STATIONERY STORES',\n",
       "       'STATIONERY/OFFICE SUPPLIES', 'TAX PAYMENTS',\n",
       "       'TAXICABS/LIMOUSINES', 'TELECOMMUNICATION EQUIPMENT',\n",
       "       'TELECOMMUNICATION SERVICES', 'THEATRICAL PRODUCERS',\n",
       "       'TOURIST ATTRACTIONS AND XHBT', 'TRAVEL AGENCIES',\n",
       "       'UTILITIES/ELEC/GAS/H2O/SANI', 'VARIETY STORES',\n",
       "       'WOMENS READY TO WEAR STORES'], dtype=object)"
      ]
     },
     "execution_count": 4,
     "metadata": {},
     "output_type": "execute_result"
    }
   ],
   "source": [
    "df['mrch_catg_rlup_nm2'].unique()"
   ]
  },
  {
   "cell_type": "code",
   "execution_count": 12,
   "metadata": {},
   "outputs": [
    {
     "ename": "TypeError",
     "evalue": "drop() takes from 1 to 2 positional arguments but 4 positional arguments (and 1 keyword-only argument) were given",
     "output_type": "error",
     "traceback": [
      "\u001b[0;31m---------------------------------------------------------------------------\u001b[0m",
      "\u001b[0;31mTypeError\u001b[0m                                 Traceback (most recent call last)",
      "Cell \u001b[0;32mIn[12], line 6\u001b[0m\n\u001b[1;32m      3\u001b[0m mask \u001b[38;5;241m=\u001b[39m df[\u001b[38;5;124m'\u001b[39m\u001b[38;5;124mmrch_catg_rlup_nm2\u001b[39m\u001b[38;5;124m'\u001b[39m]\u001b[38;5;241m.\u001b[39misin(elec_mask)\n\u001b[1;32m      4\u001b[0m ch3 \u001b[38;5;241m=\u001b[39m df[mask]\n\u001b[0;32m----> 6\u001b[0m ch3 \u001b[38;5;241m=\u001b[39m \u001b[43mch3\u001b[49m\u001b[38;5;241;43m.\u001b[39;49m\u001b[43mdrop\u001b[49m\u001b[43m(\u001b[49m\u001b[38;5;124;43m'\u001b[39;49m\u001b[38;5;124;43mName\u001b[39;49m\u001b[38;5;124;43m'\u001b[39;49m\u001b[43m,\u001b[49m\u001b[43m \u001b[49m\u001b[38;5;124;43m'\u001b[39;49m\u001b[38;5;124;43mValue.accountId\u001b[39;49m\u001b[38;5;124;43m'\u001b[39;49m\u001b[43m,\u001b[49m\u001b[43m \u001b[49m\u001b[38;5;124;43m'\u001b[39;49m\u001b[38;5;124;43mCategory\u001b[39;49m\u001b[38;5;124;43m'\u001b[39;49m\u001b[43m,\u001b[49m\u001b[43m \u001b[49m\u001b[43maxis\u001b[49m\u001b[38;5;241;43m=\u001b[39;49m\u001b[38;5;241;43m1\u001b[39;49m\u001b[43m)\u001b[49m\n\u001b[1;32m      7\u001b[0m ch3\n",
      "\u001b[0;31mTypeError\u001b[0m: drop() takes from 1 to 2 positional arguments but 4 positional arguments (and 1 keyword-only argument) were given"
     ]
    }
   ],
   "source": [
    "elec_mask = ['TELECOMMUNICATION EQUIPMENT', 'DIGITAL GOODS BOOKSMOVIEMUSIC', 'DIGITAL GOODS GAMES', 'COMPUTER SOFTWARE STORES',\n",
    "              'ELECTRONICS STORE', 'CABLE, SAT, PAY TV/RADIO SVCS', 'UTILITIES/ELEC/GAS/H2O/SANI']\n",
    "mask = df['mrch_catg_rlup_nm2'].isin(elec_mask)\n",
    "ch3 = df[mask]\n"
   ]
  }
 ],
 "metadata": {
  "kernelspec": {
   "display_name": ".venv",
   "language": "python",
   "name": "python3"
  },
  "language_info": {
   "codemirror_mode": {
    "name": "ipython",
    "version": 3
   },
   "file_extension": ".py",
   "mimetype": "text/x-python",
   "name": "python",
   "nbconvert_exporter": "python",
   "pygments_lexer": "ipython3",
   "version": "3.9.6"
  }
 },
 "nbformat": 4,
 "nbformat_minor": 2
}
